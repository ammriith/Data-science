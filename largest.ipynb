{
 "cells": [
  {
   "cell_type": "code",
   "execution_count": 1,
   "id": "e840dd45-9535-495f-92db-7b1e16a70c74",
   "metadata": {},
   "outputs": [
    {
     "name": "stdout",
     "output_type": "stream",
     "text": [
      "largest number= 5\n"
     ]
    }
   ],
   "source": [
    "l=[1,2,3,4,5]\n",
    "largest=max(l)\n",
    "print(\"largest number=\",largest)"
   ]
  },
  {
   "cell_type": "code",
   "execution_count": 2,
   "id": "b2b556af-6dfa-4069-991e-186ee9c25205",
   "metadata": {},
   "outputs": [
    {
     "name": "stdout",
     "output_type": "stream",
     "text": [
      "largest number= 5\n"
     ]
    }
   ],
   "source": [
    "l=[1,2,3,4,5]\n",
    "max=l[0]\n",
    "for i in l:\n",
    "    if i>max:\n",
    "        max=i\n",
    "print(\"largest number=\",max)"
   ]
  },
  {
   "cell_type": "code",
   "execution_count": null,
   "id": "6c9d36ec-2f87-4761-a37e-3a50976a6498",
   "metadata": {},
   "outputs": [],
   "source": []
  }
 ],
 "metadata": {
  "kernelspec": {
   "display_name": "Python 3 (ipykernel)",
   "language": "python",
   "name": "python3"
  },
  "language_info": {
   "codemirror_mode": {
    "name": "ipython",
    "version": 3
   },
   "file_extension": ".py",
   "mimetype": "text/x-python",
   "name": "python",
   "nbconvert_exporter": "python",
   "pygments_lexer": "ipython3",
   "version": "3.11.9"
  }
 },
 "nbformat": 4,
 "nbformat_minor": 5
}
