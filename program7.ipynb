{
 "cells": [
  {
   "cell_type": "code",
   "execution_count": 1,
   "id": "67f823cd-fdb8-4ce7-8bf3-10e6a96bf639",
   "metadata": {},
   "outputs": [
    {
     "name": "stdout",
     "output_type": "stream",
     "text": [
      "Linear Regression MSE: 0.037113794407976845\n"
     ]
    }
   ],
   "source": [
    "import numpy as np\n",
    "import pandas as pd\n",
    "from sklearn.datasets import load_iris\n",
    "from sklearn.model_selection import train_test_split\n",
    "from sklearn.linear_model import LinearRegression\n",
    "from sklearn.metrics import mean_squared_error\n",
    "\n",
    "data = load_iris()\n",
    "x = data.data\n",
    "y = data.target\n",
    "\n",
    "x_train, x_test, y_train, y_test = train_test_split(x, y, test_size=0.2, random_state=42)\n",
    "\n",
    "lr_model = LinearRegression()\n",
    "lr_model.fit(x_train, y_train)\n",
    "\n",
    "lr_predictions = lr_model.predict(x_test)\n",
    "lr_mse = mean_squared_error(y_test, lr_predictions)\n",
    "\n",
    "print(f'Linear Regression MSE: {lr_mse}')\n"
   ]
  },
  {
   "cell_type": "code",
   "execution_count": 2,
   "id": "ac2bfc9f-53f5-44bb-ac9e-f11aadee8602",
   "metadata": {},
   "outputs": [
    {
     "name": "stdout",
     "output_type": "stream",
     "text": [
      "Multiple Linear Regression MSE:0.037113794407976845\n"
     ]
    }
   ],
   "source": [
    "import numpy as np\n",
    "import pandas as pd\n",
    "from sklearn.datasets import load_iris\n",
    "from sklearn.model_selection import train_test_split\n",
    "from sklearn.linear_model import LinearRegression\n",
    "from sklearn.metrics import mean_squared_error\n",
    "data=load_iris()\n",
    "X=data.data \n",
    "y=data.target\n",
    "X_train,X_test,y_train,y_test=train_test_split(X,y,test_size=0.2,random_state=42)\n",
    "mlr_model=LinearRegression()\n",
    "mlr_model.fit(X_train,y_train)\n",
    "mlr_predictions=mlr_model.predict(X_test)\n",
    "mlr_mse=mean_squared_error(y_test,mlr_predictions)\n",
    "print(f'Multiple Linear Regression MSE:{mlr_mse}')"
   ]
  },
  {
   "cell_type": "code",
   "execution_count": 3,
   "id": "5fc0c6c7-32e6-43f6-9d32-c75c182fd1c5",
   "metadata": {},
   "outputs": [
    {
     "name": "stdout",
     "output_type": "stream",
     "text": [
      "Dataset shape: (303, 14)\n",
      "Columns: Index(['age', 'sex', 'cp', 'trestbps', 'chol', 'fbs', 'restecg', 'thalach',\n",
      "       'exang', 'oldpeak', 'slope', 'ca', 'thal', 'target'],\n",
      "      dtype='object')\n",
      "\n",
      "--- Model Evaluation ---\n",
      "Mean Squared Error (MSE): 0.2408803731813779\n",
      "R² Score: 0.034142382965617335\n",
      "\n",
      "--- Model Coefficients ---\n",
      "Intercept: 1.2453281547068722\n",
      "Coefficient for age: -0.012616526380518621\n",
      "Coefficient for chol: -3.488006802979199e-05\n",
      "\n",
      "Predicted heart disease probability (for age=50, chol=220): 0.6068282207143868\n"
     ]
    }
   ],
   "source": [
    "import pandas as pd\n",
    "from sklearn.model_selection import train_test_split\n",
    "from sklearn.linear_model import LinearRegression\n",
    "from sklearn.metrics import mean_squared_error, r2_score\n",
    "data = pd.read_csv(\"heart.csv\")\n",
    "print(\"Dataset shape:\", data.shape)\n",
    "print(\"Columns:\", data.columns)\n",
    "X = data[['age', 'chol']]\n",
    "y = data['target']   \n",
    "X_train, X_test, y_train, y_test = train_test_split(X, y, test_size=0.2, random_state=42)\n",
    "model = LinearRegression()\n",
    "model.fit(X_train, y_train)\n",
    "y_pred = model.predict(X_test)\n",
    "print(\"\\n--- Model Evaluation ---\")\n",
    "print(\"Mean Squared Error (MSE):\", mean_squared_error(y_test, y_pred))\n",
    "print(\"R² Score:\", r2_score(y_test, y_pred))\n",
    "print(\"\\n--- Model Coefficients ---\")\n",
    "print(\"Intercept:\", model.intercept_)\n",
    "print(\"Coefficient for age:\", model.coef_[0])\n",
    "print(\"Coefficient for chol:\", model.coef_[1])\n",
    "example = pd.DataFrame({'age': [50], 'chol': [220]})\n",
    "print(\"\\nPredicted heart disease probability (for age=50, chol=220):\", model.predict(example)[0])\n"
   ]
  },
  {
   "cell_type": "code",
   "execution_count": 5,
   "id": "ded6d315-8706-4c0a-8641-00334804f98c",
   "metadata": {},
   "outputs": [
    {
     "name": "stdout",
     "output_type": "stream",
     "text": [
      "Model Performance on Test Data\n",
      "--------------------------------\n",
      "Mean Squared Error (MSE): 33600065.36\n",
      "Root Mean Squared Error (RMSE): 5796.56\n",
      "R² Score: 0.7836\n"
     ]
    }
   ],
   "source": [
    "import pandas as pd\n",
    "import numpy as np\n",
    "from sklearn.model_selection import train_test_split\n",
    "from sklearn.linear_model import LinearRegression\n",
    "from sklearn.metrics import mean_squared_error, r2_score\n",
    "from sklearn.preprocessing import OneHotEncoder\n",
    "from sklearn.compose import ColumnTransformer\n",
    "from sklearn.pipeline import Pipeline\n",
    "\n",
    "# Load dataset\n",
    "data = pd.read_csv(\"insurance.csv\")\n",
    "\n",
    "# Independent (X) and dependent (y) variables\n",
    "X = data.drop(\"expenses\", axis=1)\n",
    "y = data[\"expenses\"]\n",
    "\n",
    "# Categorical and numerical columns\n",
    "categorical_cols = [\"sex\", \"smoker\", \"region\"]\n",
    "numerical_cols = [\"age\", \"bmi\", \"children\"]\n",
    "\n",
    "# Preprocessing: OneHotEncode categorical variables\n",
    "preprocessor = ColumnTransformer(\n",
    "    transformers=[\n",
    "        (\"cat\", OneHotEncoder(drop=\"first\"), categorical_cols)\n",
    "    ],\n",
    "    remainder=\"passthrough\"  # keep numerical as is\n",
    ")\n",
    "\n",
    "# Create pipeline with preprocessing + regression model\n",
    "model = Pipeline(steps=[\n",
    "    (\"preprocessor\", preprocessor),\n",
    "    (\"regressor\", LinearRegression())\n",
    "])\n",
    "\n",
    "# Train-test split\n",
    "X_train, X_test, y_train, y_test = train_test_split(X, y, test_size=0.2, random_state=42)\n",
    "\n",
    "# Train the model\n",
    "model.fit(X_train, y_train)\n",
    "\n",
    "# Predictions\n",
    "y_pred = model.predict(X_test)\n",
    "\n",
    "# Evaluation\n",
    "mse = mean_squared_error(y_test, y_pred)\n",
    "rmse = np.sqrt(mse)\n",
    "r2 = r2_score(y_test, y_pred)\n",
    "\n",
    "print(\"Model Performance on Test Data\")\n",
    "print(\"--------------------------------\")\n",
    "print(f\"Mean Squared Error (MSE): {mse:.2f}\")\n",
    "print(f\"Root Mean Squared Error (RMSE): {rmse:.2f}\")\n",
    "print(f\"R² Score: {r2:.4f}\")\n"
   ]
  },
  {
   "cell_type": "code",
   "execution_count": null,
   "id": "b77451c9-88f0-4dd8-a81a-71a7ce1e32f6",
   "metadata": {},
   "outputs": [],
   "source": []
  }
 ],
 "metadata": {
  "kernelspec": {
   "display_name": "Python 3 (ipykernel)",
   "language": "python",
   "name": "python3"
  },
  "language_info": {
   "codemirror_mode": {
    "name": "ipython",
    "version": 3
   },
   "file_extension": ".py",
   "mimetype": "text/x-python",
   "name": "python",
   "nbconvert_exporter": "python",
   "pygments_lexer": "ipython3",
   "version": "3.11.9"
  }
 },
 "nbformat": 4,
 "nbformat_minor": 5
}
