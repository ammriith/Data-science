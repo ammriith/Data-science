{
 "cells": [
  {
   "cell_type": "code",
   "execution_count": 4,
   "id": "af3bbfbe-98f3-4ce4-bfa7-86b2ca20fdbd",
   "metadata": {},
   "outputs": [
    {
     "name": "stdout",
     "output_type": "stream",
     "text": [
      "{'a': 1, 'b': 2, 'c': 3}\n"
     ]
    }
   ],
   "source": [
    "t=(('a',1),('b',2),('c',3))\n",
    "d=dict(t)\n",
    "print(d)\n"
   ]
  },
  {
   "cell_type": "code",
   "execution_count": 5,
   "id": "2177eb81-12af-49cc-ae13-d99f2683213e",
   "metadata": {},
   "outputs": [
    {
     "name": "stdout",
     "output_type": "stream",
     "text": [
      "merged dict: {1: 'clt', 2: 'tsr', 3: 'ekm', 4: 'ksd', 5: 'tvm'}\n"
     ]
    }
   ],
   "source": [
    "d1={1:'clt',2:'tsr',3:'ekm'}\n",
    "d2={4:'ksd',5:'tvm'}\n",
    "d=d1 | d2\n",
    "print(\"merged dict:\",d)"
   ]
  },
  {
   "cell_type": "code",
   "execution_count": null,
   "id": "e8e18a86-437f-4735-8583-fbf32383b73c",
   "metadata": {},
   "outputs": [],
   "source": []
  }
 ],
 "metadata": {
  "kernelspec": {
   "display_name": "Python 3 (ipykernel)",
   "language": "python",
   "name": "python3"
  },
  "language_info": {
   "codemirror_mode": {
    "name": "ipython",
    "version": 3
   },
   "file_extension": ".py",
   "mimetype": "text/x-python",
   "name": "python",
   "nbconvert_exporter": "python",
   "pygments_lexer": "ipython3",
   "version": "3.11.9"
  }
 },
 "nbformat": 4,
 "nbformat_minor": 5
}
