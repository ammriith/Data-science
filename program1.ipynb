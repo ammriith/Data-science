{
 "cells": [
  {
   "cell_type": "code",
   "execution_count": 12,
   "id": "738dbf0d-343b-4c7a-9ccf-012a0c8b5db1",
   "metadata": {},
   "outputs": [
    {
     "name": "stdout",
     "output_type": "stream",
     "text": [
      "Matrix A:\n",
      "[[1 2]\n",
      " [3 4]]\n",
      "Matrix B:\n",
      "[[6 7]\n",
      " [8 9]]\n",
      "Matrix Addition:\n",
      "[[ 7  9]\n",
      " [11 13]]\n",
      "Matrix subtraction:\n",
      "[[-5 -5]\n",
      " [-5 -5]]\n",
      "Matrix multiplication:\n",
      "[[ 6 14]\n",
      " [24 36]]\n",
      "Transpose of matrix A:\n",
      "[[1 3]\n",
      " [2 4]]\n"
     ]
    }
   ],
   "source": [
    "import numpy as np;\n",
    "A=np.array([[1,2],[3,4]])\n",
    "B=np.array([[6,7],[8,9]])\n",
    "print(f\"Matrix A:\\n{A}\")\n",
    "print(f\"Matrix B:\\n{B}\")\n",
    "print(f\"Matrix Addition:\\n{A+B}\")\n",
    "print(f\"Matrix subtraction:\\n{A-B}\")\n",
    "print(f\"Matrix multiplication:\\n{A*B}\")\n",
    "print(f\"Transpose of matrix A:\\n{A.T}\")\n",
    "\n",
    "\n",
    "\n",
    "\n",
    "\n",
    "\n"
   ]
  },
  {
   "cell_type": "code",
   "execution_count": null,
   "id": "d0f81a5e-8957-47b6-b13a-0f41ff659837",
   "metadata": {},
   "outputs": [],
   "source": []
  }
 ],
 "metadata": {
  "kernelspec": {
   "display_name": "Python 3 (ipykernel)",
   "language": "python",
   "name": "python3"
  },
  "language_info": {
   "codemirror_mode": {
    "name": "ipython",
    "version": 3
   },
   "file_extension": ".py",
   "mimetype": "text/x-python",
   "name": "python",
   "nbconvert_exporter": "python",
   "pygments_lexer": "ipython3",
   "version": "3.11.9"
  }
 },
 "nbformat": 4,
 "nbformat_minor": 5
}
